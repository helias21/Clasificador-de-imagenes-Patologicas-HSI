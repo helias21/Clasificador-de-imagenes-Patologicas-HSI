{
 "cells": [
  {
   "cell_type": "markdown",
   "id": "4b88e1d6",
   "metadata": {},
   "source": [
    "# Análisis Hiperespectral Mediante Listas"
   ]
  },
  {
   "cell_type": "markdown",
   "id": "d62d3bfb",
   "metadata": {},
   "source": [
    "Se importan las librerias.  Algunas están por haber sido utilizadas en pruebas previas"
   ]
  },
  {
   "cell_type": "code",
   "execution_count": 1,
   "id": "4bac7aaf",
   "metadata": {},
   "outputs": [],
   "source": [
    "from spectral import imshow, view_cube\n",
    "import spectral\n",
    "import spectral.io.envi as envi\n",
    "import numpy as np\n",
    "import matplotlib.pyplot as plt\n",
    "import matplotlib\n",
    "from pandas import Series,DataFrame\n",
    "%matplotlib inline\n",
    "import matplotlib.image as mpimg\n",
    "import os\n",
    "import cv2\n",
    "import re\n",
    "\n",
    "import pandas as pd\n",
    "import PIL\n",
    "from PIL import Image\n",
    "import random\n",
    "from tensorflow import keras\n",
    "from tensorflow.keras.preprocessing import image\n",
    "from tensorflow.keras.preprocessing.image import ImageDataGenerator\n",
    "from tensorflow.keras.models import Sequential\n",
    "from tensorflow.keras.layers import Dense, Activation, Flatten\n",
    "from tensorflow.keras.layers import Conv2D, MaxPooling2D\n"
   ]
  },
  {
   "cell_type": "markdown",
   "id": "e305e45c",
   "metadata": {},
   "source": [
    "Se prueba el comando \"listdir\" de las carpetas"
   ]
  },
  {
   "cell_type": "code",
   "execution_count": 2,
   "id": "b967055f",
   "metadata": {},
   "outputs": [
    {
     "name": "stdout",
     "output_type": "stream",
     "text": [
      "['030406-20x-roi3.raw', '030653-20x-roi1.raw', '030653-20x-roi2.raw', '030653-20x-roi3.raw', '030653-20x-roi4.raw', '030653-20x-roi5.raw', '030979-20x-roi4.raw', '031169-20x-roi1.raw', '031169-20x-roi2.raw', '031169-20x-roi3.raw', '031169-20x-roi4.raw', '031169-20x-roi5.raw', '031193b-20x-roi3.raw', '032236c-20x-roi1.raw', '032370-20x-roi1.raw', '032370-20x-roi2.raw', '032370-20x-roi3.raw', '032370-20x-roi4.raw', '032370-20x-roi5.raw', '032370-20x-roi6.raw', '033629-20x-roi5.raw', '033629-20x-roi6.raw', '033942-20x-roi5.raw', '033942-20x-roi6.raw', '033942c-20x-roi4.raw', '034004c-20x-roi3.raw', '034004c-20x-roi5.raw', '034080-20x-roi2.raw', '034080-20x-roi3.raw', '034080-20x-roi4.raw', '034080-20x-roi5.raw', '034080-20x-roi6.raw', '040386-20x-roi1.raw', '040386-20x-roi2.raw', '040386-20x-roi3.raw', '040386-20x-roi4.raw', '040386-20x-roi5.raw', '040386-20x-roi6.raw', '040493-20x-roi5.raw', '040579-20x-roi7.raw', '040579-20x-roi9.raw', '041602-20x-roi4.raw', '041602-20x-roi5.raw', '041602-20x-roi9.raw', '2tata0301-20x-roi1.raw', '2tata0301-20x-roi2.raw', '2tata0301-20x-roi3.raw', '2tata0301-20x-roi4.raw', '2tata0301-20x-roi5.raw', '2tata0301-20x-roi6.raw', '2tata0302-20x-roi1.raw', '2tata0302-20x-roi2.raw', '2tata0302-20x-roi3.raw', '2tata0302-20x-roi5.raw', '2tata0302-20x-roi6.raw']\n"
     ]
    }
   ],
   "source": [
    "\n",
    "dir_P = 'Desktop/Hyperimages2/P/hyper/'\n",
    "contenido = os.listdir(dir_P)\n",
    "raw = []\n",
    "for fichero in contenido:\n",
    "    if os.path.isfile(os.path.join(dir_P, fichero)) and fichero.endswith('.raw'):\n",
    "        raw.append(fichero)\n",
    "print(raw)"
   ]
  },
  {
   "cell_type": "code",
   "execution_count": 3,
   "id": "0945839e",
   "metadata": {},
   "outputs": [
    {
     "name": "stdout",
     "output_type": "stream",
     "text": [
      "['030406-20x-roi3.hdr', '030653-20x-roi1.hdr', '030653-20x-roi2.hdr', '030653-20x-roi3.hdr', '030653-20x-roi4.hdr', '030653-20x-roi5.hdr', '030979-20x-roi4.hdr', '031169-20x-roi1.hdr', '031169-20x-roi2.hdr', '031169-20x-roi3.hdr', '031169-20x-roi4.hdr', '031169-20x-roi5.hdr', '031193b-20x-roi3.hdr', '032236c-20x-roi1.hdr', '032370-20x-roi1.hdr', '032370-20x-roi2.hdr', '032370-20x-roi3.hdr', '032370-20x-roi4.hdr', '032370-20x-roi5.hdr', '032370-20x-roi6.hdr', '033629-20x-roi5.hdr', '033629-20x-roi6.hdr', '033942-20x-roi5.hdr', '033942-20x-roi6.hdr', '033942c-20x-roi4.hdr', '034004c-20x-roi3.hdr', '034004c-20x-roi5.hdr', '034080-20x-roi2.hdr', '034080-20x-roi3.hdr', '034080-20x-roi4.hdr', '034080-20x-roi5.hdr', '034080-20x-roi6.hdr', '040386-20x-roi1.hdr', '040386-20x-roi2.hdr', '040386-20x-roi3.hdr', '040386-20x-roi4.hdr', '040386-20x-roi5.hdr', '040386-20x-roi6.hdr', '040493-20x-roi5.hdr', '040579-20x-roi7.hdr', '040579-20x-roi9.hdr', '041602-20x-roi4.hdr', '041602-20x-roi5.hdr', '041602-20x-roi9.hdr', '2tata0301-20x-roi1.hdr', '2tata0301-20x-roi2.hdr', '2tata0301-20x-roi3.hdr', '2tata0301-20x-roi4.hdr', '2tata0301-20x-roi5.hdr', '2tata0301-20x-roi6.hdr', '2tata0302-20x-roi1.hdr', '2tata0302-20x-roi2.hdr', '2tata0302-20x-roi3.hdr', '2tata0302-20x-roi5.hdr', '2tata0302-20x-roi6.hdr']\n"
     ]
    }
   ],
   "source": [
    "dir_P = 'Desktop/Hyperimages2/P/hyper/'\n",
    "contenido = os.listdir(dir_P)\n",
    "hdr = []\n",
    "for fichero in contenido:\n",
    "    if os.path.isfile(os.path.join(dir_P, fichero)) and fichero.endswith('.hdr'):\n",
    "        hdr.append(fichero)\n",
    "print(hdr)"
   ]
  },
  {
   "cell_type": "markdown",
   "id": "302be132",
   "metadata": {},
   "source": [
    "Se hacen pruebas opcionales con los datos"
   ]
  },
  {
   "cell_type": "code",
   "execution_count": 4,
   "id": "10b3d498",
   "metadata": {},
   "outputs": [
    {
     "data": {
      "text/plain": [
       "list"
      ]
     },
     "execution_count": 4,
     "metadata": {},
     "output_type": "execute_result"
    }
   ],
   "source": [
    "type(hdr)"
   ]
  },
  {
   "cell_type": "code",
   "execution_count": 5,
   "id": "c11f387d",
   "metadata": {},
   "outputs": [
    {
     "data": {
      "text/plain": [
       "55"
      ]
     },
     "execution_count": 5,
     "metadata": {},
     "output_type": "execute_result"
    }
   ],
   "source": [
    "len(hdr)"
   ]
  },
  {
   "cell_type": "code",
   "execution_count": 6,
   "id": "feb88b10",
   "metadata": {},
   "outputs": [
    {
     "name": "stdout",
     "output_type": "stream",
     "text": [
      "2tata0302-20x-roi3.hdr\n"
     ]
    }
   ],
   "source": [
    "print(hdr[52])"
   ]
  },
  {
   "cell_type": "code",
   "execution_count": 7,
   "id": "feec721f",
   "metadata": {},
   "outputs": [
    {
     "data": {
      "text/plain": [
       "'Desktop/Hyperimages2/P/hyper/030406-20x-roi3.hdr'"
      ]
     },
     "execution_count": 7,
     "metadata": {},
     "output_type": "execute_result"
    }
   ],
   "source": [
    "dir_P+hdr[0]"
   ]
  },
  {
   "cell_type": "markdown",
   "id": "e70d8ec7",
   "metadata": {},
   "source": [
    "Se recorre el directorio y se establece el parametro positivo o negativo"
   ]
  },
  {
   "cell_type": "code",
   "execution_count": 8,
   "id": "93614c96",
   "metadata": {},
   "outputs": [],
   "source": [
    "hiper=[]\n",
    "for x in range (0,55):\n",
    "    imghdr=envi.open(dir_P+hdr[x], dir_P+raw[x])\n",
    "               \n",
    "    #print(imghdr.shape)\n",
    "    imghdr_nparr = np.array(imghdr.load())\n",
    "    V=imghdr_nparr.mean(axis=1)\n",
    "    VE=V.mean(axis=0)\n",
    "    if VE[39]>6200:\n",
    "        hiper.append((hdr[x]+' Negativo'))\n",
    "        #hiper[len(x).append(hdr[x],'Negativo')]\n",
    "    else:\n",
    "        hiper.append(hdr[x]+' Positivo')\n",
    "    \n",
    "    #print(imghdr_nparr_x.shape)\n",
    "#hiper[0].shape"
   ]
  },
  {
   "cell_type": "markdown",
   "id": "b720ba59",
   "metadata": {},
   "source": [
    "Se verifica el resultado"
   ]
  },
  {
   "cell_type": "code",
   "execution_count": 9,
   "id": "4b45405a",
   "metadata": {},
   "outputs": [
    {
     "name": "stdout",
     "output_type": "stream",
     "text": [
      "['030406-20x-roi3.hdr Negativo', '030653-20x-roi1.hdr Negativo', '030653-20x-roi2.hdr Negativo', '030653-20x-roi3.hdr Negativo', '030653-20x-roi4.hdr Negativo', '030653-20x-roi5.hdr Negativo', '030979-20x-roi4.hdr Positivo', '031169-20x-roi1.hdr Positivo', '031169-20x-roi2.hdr Positivo', '031169-20x-roi3.hdr Positivo', '031169-20x-roi4.hdr Positivo', '031169-20x-roi5.hdr Positivo', '031193b-20x-roi3.hdr Positivo', '032236c-20x-roi1.hdr Positivo', '032370-20x-roi1.hdr Negativo', '032370-20x-roi2.hdr Negativo', '032370-20x-roi3.hdr Negativo', '032370-20x-roi4.hdr Negativo', '032370-20x-roi5.hdr Negativo', '032370-20x-roi6.hdr Negativo', '033629-20x-roi5.hdr Positivo', '033629-20x-roi6.hdr Positivo', '033942-20x-roi5.hdr Negativo', '033942-20x-roi6.hdr Negativo', '033942c-20x-roi4.hdr Positivo', '034004c-20x-roi3.hdr Positivo', '034004c-20x-roi5.hdr Positivo', '034080-20x-roi2.hdr Positivo', '034080-20x-roi3.hdr Positivo', '034080-20x-roi4.hdr Positivo', '034080-20x-roi5.hdr Positivo', '034080-20x-roi6.hdr Positivo', '040386-20x-roi1.hdr Negativo', '040386-20x-roi2.hdr Negativo', '040386-20x-roi3.hdr Negativo', '040386-20x-roi4.hdr Negativo', '040386-20x-roi5.hdr Negativo', '040386-20x-roi6.hdr Negativo', '040493-20x-roi5.hdr Negativo', '040579-20x-roi7.hdr Positivo', '040579-20x-roi9.hdr Positivo', '041602-20x-roi4.hdr Negativo', '041602-20x-roi5.hdr Negativo', '041602-20x-roi9.hdr Negativo', '2tata0301-20x-roi1.hdr Negativo', '2tata0301-20x-roi2.hdr Negativo', '2tata0301-20x-roi3.hdr Negativo', '2tata0301-20x-roi4.hdr Negativo', '2tata0301-20x-roi5.hdr Negativo', '2tata0301-20x-roi6.hdr Negativo', '2tata0302-20x-roi1.hdr Negativo', '2tata0302-20x-roi2.hdr Negativo', '2tata0302-20x-roi3.hdr Negativo', '2tata0302-20x-roi5.hdr Negativo', '2tata0302-20x-roi6.hdr Negativo'] \n",
      "\n"
     ]
    }
   ],
   "source": [
    "print(hiper,\"\\n\")\n",
    "#print(hiper)\"\\n\""
   ]
  },
  {
   "cell_type": "markdown",
   "id": "98dbcade",
   "metadata": {},
   "source": [
    "Para facilidad de lectura se imprime en forma de lista"
   ]
  },
  {
   "cell_type": "code",
   "execution_count": 10,
   "id": "714f2edf",
   "metadata": {},
   "outputs": [
    {
     "data": {
      "text/plain": [
       "['030406-20x-roi3.hdr Negativo',\n",
       " '030653-20x-roi1.hdr Negativo',\n",
       " '030653-20x-roi2.hdr Negativo',\n",
       " '030653-20x-roi3.hdr Negativo',\n",
       " '030653-20x-roi4.hdr Negativo',\n",
       " '030653-20x-roi5.hdr Negativo',\n",
       " '030979-20x-roi4.hdr Positivo',\n",
       " '031169-20x-roi1.hdr Positivo',\n",
       " '031169-20x-roi2.hdr Positivo',\n",
       " '031169-20x-roi3.hdr Positivo',\n",
       " '031169-20x-roi4.hdr Positivo',\n",
       " '031169-20x-roi5.hdr Positivo',\n",
       " '031193b-20x-roi3.hdr Positivo',\n",
       " '032236c-20x-roi1.hdr Positivo',\n",
       " '032370-20x-roi1.hdr Negativo',\n",
       " '032370-20x-roi2.hdr Negativo',\n",
       " '032370-20x-roi3.hdr Negativo',\n",
       " '032370-20x-roi4.hdr Negativo',\n",
       " '032370-20x-roi5.hdr Negativo',\n",
       " '032370-20x-roi6.hdr Negativo',\n",
       " '033629-20x-roi5.hdr Positivo',\n",
       " '033629-20x-roi6.hdr Positivo',\n",
       " '033942-20x-roi5.hdr Negativo',\n",
       " '033942-20x-roi6.hdr Negativo',\n",
       " '033942c-20x-roi4.hdr Positivo',\n",
       " '034004c-20x-roi3.hdr Positivo',\n",
       " '034004c-20x-roi5.hdr Positivo',\n",
       " '034080-20x-roi2.hdr Positivo',\n",
       " '034080-20x-roi3.hdr Positivo',\n",
       " '034080-20x-roi4.hdr Positivo',\n",
       " '034080-20x-roi5.hdr Positivo',\n",
       " '034080-20x-roi6.hdr Positivo',\n",
       " '040386-20x-roi1.hdr Negativo',\n",
       " '040386-20x-roi2.hdr Negativo',\n",
       " '040386-20x-roi3.hdr Negativo',\n",
       " '040386-20x-roi4.hdr Negativo',\n",
       " '040386-20x-roi5.hdr Negativo',\n",
       " '040386-20x-roi6.hdr Negativo',\n",
       " '040493-20x-roi5.hdr Negativo',\n",
       " '040579-20x-roi7.hdr Positivo',\n",
       " '040579-20x-roi9.hdr Positivo',\n",
       " '041602-20x-roi4.hdr Negativo',\n",
       " '041602-20x-roi5.hdr Negativo',\n",
       " '041602-20x-roi9.hdr Negativo',\n",
       " '2tata0301-20x-roi1.hdr Negativo',\n",
       " '2tata0301-20x-roi2.hdr Negativo',\n",
       " '2tata0301-20x-roi3.hdr Negativo',\n",
       " '2tata0301-20x-roi4.hdr Negativo',\n",
       " '2tata0301-20x-roi5.hdr Negativo',\n",
       " '2tata0301-20x-roi6.hdr Negativo',\n",
       " '2tata0302-20x-roi1.hdr Negativo',\n",
       " '2tata0302-20x-roi2.hdr Negativo',\n",
       " '2tata0302-20x-roi3.hdr Negativo',\n",
       " '2tata0302-20x-roi5.hdr Negativo',\n",
       " '2tata0302-20x-roi6.hdr Negativo']"
      ]
     },
     "execution_count": 10,
     "metadata": {},
     "output_type": "execute_result"
    }
   ],
   "source": [
    "list(hiper)"
   ]
  },
  {
   "cell_type": "code",
   "execution_count": null,
   "id": "81da025a",
   "metadata": {},
   "outputs": [],
   "source": []
  }
 ],
 "metadata": {
  "kernelspec": {
   "display_name": "Python 3 (ipykernel)",
   "language": "python",
   "name": "python3"
  },
  "language_info": {
   "codemirror_mode": {
    "name": "ipython",
    "version": 3
   },
   "file_extension": ".py",
   "mimetype": "text/x-python",
   "name": "python",
   "nbconvert_exporter": "python",
   "pygments_lexer": "ipython3",
   "version": "3.9.7"
  }
 },
 "nbformat": 4,
 "nbformat_minor": 5
}
