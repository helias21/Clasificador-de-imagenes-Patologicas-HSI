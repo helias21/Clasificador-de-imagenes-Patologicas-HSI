{
 "cells": [
  {
   "cell_type": "markdown",
   "id": "da2a22b5",
   "metadata": {},
   "source": [
    "# Aplicando la Red Neuronal Flow_From_Directory"
   ]
  },
  {
   "cell_type": "markdown",
   "id": "85a880cf",
   "metadata": {},
   "source": [
    "Se importan las librerias a usar"
   ]
  },
  {
   "cell_type": "code",
   "execution_count": 8,
   "id": "0181e18e",
   "metadata": {},
   "outputs": [],
   "source": [
    "import os\n",
    "import cv2\n",
    "import re\n",
    "import numpy as np\n",
    "import pandas as pd\n",
    "from pandas import Series, DataFrame\n",
    "import random\n",
    "import matplotlib.pyplot as plt\n",
    "from tensorflow import keras\n",
    "from tensorflow.keras.preprocessing import image\n",
    "from tensorflow.keras.preprocessing.image import ImageDataGenerator\n",
    "from tensorflow.keras.models import Sequential\n",
    "from tensorflow.keras.layers import Dense, Activation, Flatten\n",
    "from tensorflow.keras.layers import Conv2D, MaxPooling2D\n",
    "from sklearn.metrics import confusion_matrix\n"
   ]
  },
  {
   "cell_type": "markdown",
   "id": "3bdb575a",
   "metadata": {},
   "source": [
    "Se normaliza la informacion entre 0 y 1"
   ]
  },
  {
   "cell_type": "code",
   "execution_count": 9,
   "id": "6c5962e0",
   "metadata": {},
   "outputs": [],
   "source": [
    "train_processor = ImageDataGenerator(rescale = 1./255)\n",
    "test_processor = ImageDataGenerator(rescale = 1./255)"
   ]
  },
  {
   "cell_type": "markdown",
   "id": "9d53e267",
   "metadata": {},
   "source": [
    "Se procede a entrenar el sistema.  Los datos estan en la carpeta \"datos\" y las tres clases con N, L y P.   Se tendrán lotes de 32."
   ]
  },
  {
   "cell_type": "code",
   "execution_count": 10,
   "id": "c77bad81",
   "metadata": {},
   "outputs": [
    {
     "name": "stdout",
     "output_type": "stream",
     "text": [
      "Found 625 images belonging to 3 classes.\n",
      "Found 255 images belonging to 3 classes.\n"
     ]
    }
   ],
   "source": [
    "train = train_processor.flow_from_directory('datos/train',  batch_size=32, \n",
    "                                            class_mode = 'categorical', shuffle='true')\n",
    "test = test_processor.flow_from_directory('datos/test', batch_size=32, \n",
    "                                          class_mode = 'categorical', shuffle='false')"
   ]
  },
  {
   "cell_type": "markdown",
   "id": "1b959f2b",
   "metadata": {},
   "source": [
    "Se usan 64 capas en la red, con densidad de 1 en cada capa y 20 interaciones por evento"
   ]
  },
  {
   "cell_type": "code",
   "execution_count": 11,
   "id": "03cd3fe6",
   "metadata": {},
   "outputs": [],
   "source": [
    "num_conv_layers = 2\n",
    "num_dense_layers = 1\n",
    "layer_size = 64\n",
    "num_training_epochs = 20"
   ]
  },
  {
   "cell_type": "markdown",
   "id": "659c86fd",
   "metadata": {},
   "source": [
    "Inicia el entrenamiento como tal"
   ]
  },
  {
   "cell_type": "code",
   "execution_count": 5,
   "id": "2688e85a",
   "metadata": {},
   "outputs": [
    {
     "name": "stdout",
     "output_type": "stream",
     "text": [
      "Epoch 1/20\n",
      "20/20 [==============================] - 65s 3s/step - loss: 1.7716 - accuracy: 0.6496 - val_loss: 0.5578 - val_accuracy: 0.8431\n",
      "Epoch 2/20\n",
      "20/20 [==============================] - 64s 3s/step - loss: 0.7053 - accuracy: 0.7600 - val_loss: 0.5002 - val_accuracy: 0.8431\n",
      "Epoch 3/20\n",
      "20/20 [==============================] - 63s 3s/step - loss: 0.6632 - accuracy: 0.7632 - val_loss: 0.6143 - val_accuracy: 0.8078\n",
      "Epoch 4/20\n",
      "20/20 [==============================] - 64s 3s/step - loss: 0.6422 - accuracy: 0.7744 - val_loss: 0.5395 - val_accuracy: 0.8431\n",
      "Epoch 5/20\n",
      "20/20 [==============================] - 64s 3s/step - loss: 0.6184 - accuracy: 0.7792 - val_loss: 0.5824 - val_accuracy: 0.8353\n",
      "Epoch 6/20\n",
      "20/20 [==============================] - 64s 3s/step - loss: 0.6299 - accuracy: 0.7888 - val_loss: 0.6210 - val_accuracy: 0.8392\n",
      "Epoch 7/20\n",
      "20/20 [==============================] - 65s 3s/step - loss: 0.6095 - accuracy: 0.7904 - val_loss: 0.4794 - val_accuracy: 0.8431\n",
      "Epoch 8/20\n",
      "20/20 [==============================] - 76s 4s/step - loss: 0.5753 - accuracy: 0.8112 - val_loss: 0.6102 - val_accuracy: 0.7333\n",
      "Epoch 9/20\n",
      "20/20 [==============================] - 69s 3s/step - loss: 0.5585 - accuracy: 0.7888 - val_loss: 0.6186 - val_accuracy: 0.8039\n",
      "Epoch 10/20\n",
      "20/20 [==============================] - 65s 3s/step - loss: 0.5225 - accuracy: 0.8272 - val_loss: 0.5283 - val_accuracy: 0.8314\n",
      "Epoch 11/20\n",
      "20/20 [==============================] - 65s 3s/step - loss: 0.4732 - accuracy: 0.8336 - val_loss: 0.7337 - val_accuracy: 0.6706\n",
      "Epoch 12/20\n",
      "20/20 [==============================] - 65s 3s/step - loss: 0.4068 - accuracy: 0.8544 - val_loss: 0.5768 - val_accuracy: 0.7725\n",
      "Epoch 13/20\n",
      "20/20 [==============================] - 65s 3s/step - loss: 0.3374 - accuracy: 0.9024 - val_loss: 0.5800 - val_accuracy: 0.7765\n",
      "Epoch 14/20\n",
      "20/20 [==============================] - 65s 3s/step - loss: 0.2868 - accuracy: 0.9168 - val_loss: 0.6151 - val_accuracy: 0.7569\n",
      "Epoch 15/20\n",
      "20/20 [==============================] - 65s 3s/step - loss: 0.1898 - accuracy: 0.9472 - val_loss: 0.6333 - val_accuracy: 0.7451\n",
      "Epoch 16/20\n",
      "20/20 [==============================] - 66s 3s/step - loss: 0.1280 - accuracy: 0.9696 - val_loss: 0.7130 - val_accuracy: 0.8157\n",
      "Epoch 17/20\n",
      "20/20 [==============================] - 66s 3s/step - loss: 0.0981 - accuracy: 0.9760 - val_loss: 0.6765 - val_accuracy: 0.7647\n",
      "Epoch 18/20\n",
      "20/20 [==============================] - 66s 3s/step - loss: 0.0746 - accuracy: 0.9888 - val_loss: 0.9884 - val_accuracy: 0.6549\n",
      "Epoch 19/20\n",
      "20/20 [==============================] - 66s 3s/step - loss: 0.0480 - accuracy: 0.9936 - val_loss: 0.9795 - val_accuracy: 0.6706\n",
      "Epoch 20/20\n",
      "20/20 [==============================] - 66s 3s/step - loss: 0.0576 - accuracy: 0.9872 - val_loss: 0.9011 - val_accuracy: 0.7020\n"
     ]
    }
   ],
   "source": [
    "model = Sequential()\n",
    "model.add(Conv2D(layer_size, (3,3), input_shape=(256,256,3)))\n",
    "model.add(Activation('relu'))\n",
    "model.add(MaxPooling2D(pool_size=(2,2)))\n",
    "\n",
    "for _ in range(num_conv_layers-1):\n",
    "    model.add(Conv2D(layer_size, (3,3), input_shape=(256,256,3)))\n",
    "    model.add(Activation('relu'))\n",
    "    model.add(MaxPooling2D(pool_size=(2,2)))\n",
    "    \n",
    "model.add(Flatten())\n",
    "\n",
    "for _ in range(num_dense_layers):\n",
    "    model.add(Dense(3))\n",
    "    model.add(Activation('softmax'))\n",
    "\n",
    "model.compile(loss='categorical_crossentropy', optimizer='adam', metrics=['accuracy'])\n",
    "\n",
    "model.fit(train, epochs=num_training_epochs, validation_data = test)\n",
    "\n",
    "model.save(f'histo.h5')"
   ]
  },
  {
   "cell_type": "code",
   "execution_count": 6,
   "id": "aa60123d",
   "metadata": {},
   "outputs": [],
   "source": []
  }
 ],
 "metadata": {
  "kernelspec": {
   "display_name": "Python 3 (ipykernel)",
   "language": "python",
   "name": "python3"
  },
  "language_info": {
   "codemirror_mode": {
    "name": "ipython",
    "version": 3
   },
   "file_extension": ".py",
   "mimetype": "text/x-python",
   "name": "python",
   "nbconvert_exporter": "python",
   "pygments_lexer": "ipython3",
   "version": "3.9.7"
  }
 },
 "nbformat": 4,
 "nbformat_minor": 5
}
