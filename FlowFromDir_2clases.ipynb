{
 "cells": [
  {
   "cell_type": "markdown",
   "id": "da2a22b5",
   "metadata": {},
   "source": [
    "# Aplicando la Red Neuronal Flow_From_Directory a Imagenes RGB\n"
   ]
  },
  {
   "cell_type": "markdown",
   "id": "85a880cf",
   "metadata": {},
   "source": [
    "Se importan las librerias a usar"
   ]
  },
  {
   "cell_type": "code",
   "execution_count": 6,
   "id": "0181e18e",
   "metadata": {},
   "outputs": [],
   "source": [
    "import os\n",
    "import cv2\n",
    "import re\n",
    "import numpy as np\n",
    "import pandas as pd\n",
    "from pandas import Series, DataFrame\n",
    "import random\n",
    "import matplotlib.pyplot as plt\n",
    "from tensorflow import keras\n",
    "from tensorflow.keras.preprocessing import image\n",
    "from tensorflow.keras.preprocessing.image import ImageDataGenerator\n",
    "from tensorflow.keras.models import Sequential\n",
    "from tensorflow.keras.layers import Dense, Activation, Flatten\n",
    "from tensorflow.keras.layers import Conv2D, MaxPooling2D\n",
    "from sklearn.metrics import confusion_matrix\n"
   ]
  },
  {
   "cell_type": "markdown",
   "id": "3bdb575a",
   "metadata": {},
   "source": [
    "Se normaliza la informacion entre 0 y 1"
   ]
  },
  {
   "cell_type": "code",
   "execution_count": 7,
   "id": "6c5962e0",
   "metadata": {},
   "outputs": [],
   "source": [
    "train_processor = ImageDataGenerator(rescale = 1./255)\n",
    "test_processor = ImageDataGenerator(rescale = 1./255)"
   ]
  },
  {
   "cell_type": "markdown",
   "id": "9d53e267",
   "metadata": {},
   "source": [
    "Se procede a entrenar el sistema.  Los datos estan en la carpeta \"datos2\" y las dos clases:  Positivas y Negativas.   Se tendrán lotes de 32."
   ]
  },
  {
   "cell_type": "code",
   "execution_count": 8,
   "id": "c77bad81",
   "metadata": {},
   "outputs": [
    {
     "name": "stdout",
     "output_type": "stream",
     "text": [
      "Found 622 images belonging to 2 classes.\n",
      "Found 255 images belonging to 2 classes.\n"
     ]
    }
   ],
   "source": [
    "train = train_processor.flow_from_directory('datos2/train',  batch_size=32, \n",
    "                                            class_mode = 'categorical', shuffle='true')\n",
    "test = test_processor.flow_from_directory('datos2/test', batch_size=32, \n",
    "                                          class_mode = 'categorical', shuffle='false')"
   ]
  },
  {
   "cell_type": "markdown",
   "id": "1b959f2b",
   "metadata": {},
   "source": [
    "Se usan 64 capas en la red, con densidad de 1 en cada capa y 20 interaciones por evento"
   ]
  },
  {
   "cell_type": "code",
   "execution_count": 17,
   "id": "03cd3fe6",
   "metadata": {},
   "outputs": [],
   "source": [
    "num_conv_layers = 2\n",
    "num_dense_layers = 1\n",
    "layer_size = 64\n",
    "num_training_epochs = 20"
   ]
  },
  {
   "cell_type": "markdown",
   "id": "659c86fd",
   "metadata": {},
   "source": [
    "Inicia el entrenamiento como tal"
   ]
  },
  {
   "cell_type": "code",
   "execution_count": 19,
   "id": "2688e85a",
   "metadata": {},
   "outputs": [
    {
     "name": "stdout",
     "output_type": "stream",
     "text": [
      "Epoch 1/20\n",
      "20/20 [==============================] - 65s 3s/step - loss: 0.5426 - accuracy: 0.8215 - val_loss: 0.4945 - val_accuracy: 0.8824\n",
      "Epoch 2/20\n",
      "20/20 [==============================] - 64s 3s/step - loss: 0.5287 - accuracy: 0.8215 - val_loss: 0.4786 - val_accuracy: 0.8824\n",
      "Epoch 3/20\n",
      "20/20 [==============================] - 64s 3s/step - loss: 0.5178 - accuracy: 0.8215 - val_loss: 0.4647 - val_accuracy: 0.8824\n",
      "Epoch 4/20\n",
      "20/20 [==============================] - 64s 3s/step - loss: 0.5091 - accuracy: 0.8215 - val_loss: 0.4518 - val_accuracy: 0.8824\n",
      "Epoch 5/20\n",
      "20/20 [==============================] - 64s 3s/step - loss: 0.5013 - accuracy: 0.8215 - val_loss: 0.4407 - val_accuracy: 0.8824\n",
      "Epoch 6/20\n",
      "20/20 [==============================] - 64s 3s/step - loss: 0.4948 - accuracy: 0.8215 - val_loss: 0.4314 - val_accuracy: 0.8824\n",
      "Epoch 7/20\n",
      "20/20 [==============================] - 65s 3s/step - loss: 0.4897 - accuracy: 0.8215 - val_loss: 0.4233 - val_accuracy: 0.8824\n",
      "Epoch 8/20\n",
      "20/20 [==============================] - 65s 3s/step - loss: 0.4853 - accuracy: 0.8215 - val_loss: 0.4161 - val_accuracy: 0.8824\n",
      "Epoch 9/20\n",
      "20/20 [==============================] - 65s 3s/step - loss: 0.4818 - accuracy: 0.8215 - val_loss: 0.4106 - val_accuracy: 0.8824\n",
      "Epoch 10/20\n",
      "20/20 [==============================] - 65s 3s/step - loss: 0.4792 - accuracy: 0.8215 - val_loss: 0.4053 - val_accuracy: 0.8824\n",
      "Epoch 11/20\n",
      "20/20 [==============================] - 65s 3s/step - loss: 0.4770 - accuracy: 0.8215 - val_loss: 0.4014 - val_accuracy: 0.8824\n",
      "Epoch 12/20\n",
      "20/20 [==============================] - 65s 3s/step - loss: 0.4754 - accuracy: 0.8215 - val_loss: 0.3985 - val_accuracy: 0.8824\n",
      "Epoch 13/20\n",
      "20/20 [==============================] - 65s 3s/step - loss: 0.4742 - accuracy: 0.8215 - val_loss: 0.3951 - val_accuracy: 0.8824\n",
      "Epoch 14/20\n",
      "20/20 [==============================] - 65s 3s/step - loss: 0.4731 - accuracy: 0.8215 - val_loss: 0.3924 - val_accuracy: 0.8824\n",
      "Epoch 15/20\n",
      "20/20 [==============================] - 66s 3s/step - loss: 0.4721 - accuracy: 0.8215 - val_loss: 0.3905 - val_accuracy: 0.8824\n",
      "Epoch 16/20\n",
      "20/20 [==============================] - 66s 3s/step - loss: 0.4716 - accuracy: 0.8215 - val_loss: 0.3882 - val_accuracy: 0.8824\n",
      "Epoch 17/20\n",
      "20/20 [==============================] - 66s 3s/step - loss: 0.4709 - accuracy: 0.8215 - val_loss: 0.3871 - val_accuracy: 0.8824\n",
      "Epoch 18/20\n",
      "20/20 [==============================] - 66s 3s/step - loss: 0.4705 - accuracy: 0.8215 - val_loss: 0.3854 - val_accuracy: 0.8824\n",
      "Epoch 19/20\n",
      "20/20 [==============================] - 66s 3s/step - loss: 0.4701 - accuracy: 0.8215 - val_loss: 0.3840 - val_accuracy: 0.8824\n",
      "Epoch 20/20\n",
      "20/20 [==============================] - 66s 3s/step - loss: 0.4699 - accuracy: 0.8215 - val_loss: 0.3830 - val_accuracy: 0.8824\n"
     ]
    }
   ],
   "source": [
    "model = Sequential()\n",
    "model.add(Conv2D(layer_size, (3,3), input_shape=(256,256,3)))\n",
    "model.add(Activation('relu'))\n",
    "model.add(MaxPooling2D(pool_size=(2,2)))\n",
    "\n",
    "for _ in range(num_conv_layers-1):\n",
    "    model.add(Conv2D(layer_size, (3,3), input_shape=(256,256,3)))\n",
    "    model.add(Activation('relu'))\n",
    "    model.add(MaxPooling2D(pool_size=(2,2)))\n",
    "    \n",
    "model.add(Flatten())\n",
    "\n",
    "for _ in range(num_dense_layers):\n",
    "    model.add(Dense(2))\n",
    "    model.add(Activation('softmax'))\n",
    "\n",
    "model.compile(loss='categorical_crossentropy', optimizer='adam', metrics=['accuracy'])\n",
    "\n",
    "model.fit(train, epochs=num_training_epochs, validation_data = test)\n",
    "\n",
    "model.save(f'histo.h5')"
   ]
  },
  {
   "cell_type": "code",
   "execution_count": 6,
   "id": "aa60123d",
   "metadata": {},
   "outputs": [],
   "source": []
  }
 ],
 "metadata": {
  "kernelspec": {
   "display_name": "Python 3 (ipykernel)",
   "language": "python",
   "name": "python3"
  },
  "language_info": {
   "codemirror_mode": {
    "name": "ipython",
    "version": 3
   },
   "file_extension": ".py",
   "mimetype": "text/x-python",
   "name": "python",
   "nbconvert_exporter": "python",
   "pygments_lexer": "ipython3",
   "version": "3.9.7"
  }
 },
 "nbformat": 4,
 "nbformat_minor": 5
}
