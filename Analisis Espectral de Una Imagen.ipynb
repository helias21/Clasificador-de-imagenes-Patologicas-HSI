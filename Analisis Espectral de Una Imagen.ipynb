{
 "cells": [
  {
   "cell_type": "markdown",
   "id": "cf14bf7a",
   "metadata": {},
   "source": [
    "# Analisis Hiperespectral cargando una Imagen "
   ]
  },
  {
   "cell_type": "markdown",
   "id": "2bc3d225",
   "metadata": {},
   "source": [
    "Se cargan las librerias"
   ]
  },
  {
   "cell_type": "code",
   "execution_count": 1,
   "id": "4bac7aaf",
   "metadata": {},
   "outputs": [],
   "source": [
    "from spectral import imshow, view_cube\n",
    "import spectral\n",
    "import spectral.io.envi as envi\n",
    "import numpy as np\n",
    "import matplotlib.pyplot as plt\n",
    "import matplotlib\n",
    "from pandas import Series,DataFrame\n",
    "%matplotlib inline\n",
    "import matplotlib.image as mpimg\n",
    "import os\n",
    "import cv2\n",
    "import re\n",
    "\n",
    "import pandas as pd\n",
    "import PIL\n",
    "from PIL import Image\n",
    "import random\n",
    "from tensorflow import keras\n",
    "from tensorflow.keras.preprocessing import image\n",
    "from tensorflow.keras.preprocessing.image import ImageDataGenerator\n",
    "from tensorflow.keras.models import Sequential\n",
    "from tensorflow.keras.layers import Dense, Activation, Flatten\n",
    "from tensorflow.keras.layers import Conv2D, MaxPooling2D\n"
   ]
  },
  {
   "cell_type": "markdown",
   "id": "1932c9ce",
   "metadata": {},
   "source": [
    "Se carga la imagen Hiperespectral desde el directorio donde esta.   \n",
    "Se debe cargar la imagen hdr y raw."
   ]
  },
  {
   "cell_type": "code",
   "execution_count": 2,
   "id": "1d567015",
   "metadata": {},
   "outputs": [],
   "source": [
    "imghdr=envi.open('Desktop/Hyperimages2/L/hyper/032979c-20x-roi5.hdr', \n",
    "                 'Desktop/Hyperimages2/L/hyper/032979c-20x-roi5.raw')"
   ]
  },
  {
   "cell_type": "markdown",
   "id": "46105761",
   "metadata": {},
   "source": [
    "Se convierte la imagen en matriz"
   ]
  },
  {
   "cell_type": "code",
   "execution_count": 3,
   "id": "a79f193b",
   "metadata": {},
   "outputs": [],
   "source": [
    "\n",
    "imghdr_nparr = np.array(imghdr.load())\n",
    "\n"
   ]
  },
  {
   "cell_type": "code",
   "execution_count": 4,
   "id": "03754e29",
   "metadata": {},
   "outputs": [
    {
     "data": {
      "text/plain": [
       "(1024, 1280, 60)"
      ]
     },
     "execution_count": 4,
     "metadata": {},
     "output_type": "execute_result"
    }
   ],
   "source": [
    "imghdr_nparr.shape"
   ]
  },
  {
   "cell_type": "code",
   "execution_count": 5,
   "id": "f51eda18",
   "metadata": {},
   "outputs": [
    {
     "data": {
      "text/plain": [
       "14528.0"
      ]
     },
     "execution_count": 5,
     "metadata": {},
     "output_type": "execute_result"
    }
   ],
   "source": [
    "np.amax(imghdr_nparr)"
   ]
  },
  {
   "cell_type": "code",
   "execution_count": 6,
   "id": "f627419e",
   "metadata": {},
   "outputs": [
    {
     "data": {
      "text/plain": [
       "1424.0"
      ]
     },
     "execution_count": 6,
     "metadata": {},
     "output_type": "execute_result"
    }
   ],
   "source": [
    "np.amin(imghdr_nparr)"
   ]
  },
  {
   "cell_type": "markdown",
   "id": "f4499fa1",
   "metadata": {},
   "source": [
    "Se comprime la matriz de 1024x1280x60 en un vector de 60 puntos.   Cada punto es el promedio de \"x\"\n",
    "y \"y\" y representa un promedio por frecuencia."
   ]
  },
  {
   "cell_type": "code",
   "execution_count": 7,
   "id": "7d2246b4",
   "metadata": {},
   "outputs": [],
   "source": [
    "V=imghdr_nparr.mean(axis=1)\n"
   ]
  },
  {
   "cell_type": "code",
   "execution_count": 8,
   "id": "c0ad50c3",
   "metadata": {},
   "outputs": [
    {
     "data": {
      "text/plain": [
       "(1024, 60)"
      ]
     },
     "execution_count": 8,
     "metadata": {},
     "output_type": "execute_result"
    }
   ],
   "source": [
    "V.shape\n"
   ]
  },
  {
   "cell_type": "code",
   "execution_count": 9,
   "id": "6f21a392",
   "metadata": {},
   "outputs": [],
   "source": [
    "\n",
    "VE=V.mean(axis=0)\n"
   ]
  },
  {
   "cell_type": "code",
   "execution_count": 10,
   "id": "ad9bd791",
   "metadata": {},
   "outputs": [
    {
     "data": {
      "text/plain": [
       "(60,)"
      ]
     },
     "execution_count": 10,
     "metadata": {},
     "output_type": "execute_result"
    }
   ],
   "source": [
    "VE.shape"
   ]
  },
  {
   "cell_type": "markdown",
   "id": "aad28d80",
   "metadata": {},
   "source": [
    "Se hacen pruebas opcionales con el vector"
   ]
  },
  {
   "cell_type": "code",
   "execution_count": 11,
   "id": "c7d1b30f",
   "metadata": {},
   "outputs": [
    {
     "name": "stdout",
     "output_type": "stream",
     "text": [
      "[1833.6228 1833.5906 1868.7598 1913.8418 1977.8479 2075.3945 2220.1987\n",
      " 2409.3257 2625.7021 2845.8232 3031.0132 3185.124  3281.7485 3383.5688\n",
      " 3582.7263 3885.8552 4348.4854 4903.538  5503.7837 6025.4688 6289.814\n",
      " 6325.0386 6307.039  6381.421  6625.4814 6844.623  7149.024  7323.2046\n",
      " 7126.1846 6621.672  6035.0703 5641.903  5300.515  5072.0127 5057.1416\n",
      " 5119.0127 5295.0664 5412.084  5576.134  5415.073  4901.1025 4218.173\n",
      " 3610.1448 3156.8687 2823.8276 2647.6953 2528.5474 2412.2793 2291.662\n",
      " 2183.6543 2074.152  1948.8047 1842.6544 1768.3657 1725.0132 1698.3062\n",
      " 1683.938  1675.4579 1666.6958 1656.7024]\n"
     ]
    }
   ],
   "source": [
    "print(VE)"
   ]
  },
  {
   "cell_type": "code",
   "execution_count": 12,
   "id": "27ce854f",
   "metadata": {},
   "outputs": [
    {
     "name": "stdout",
     "output_type": "stream",
     "text": [
      "5415.073\n"
     ]
    }
   ],
   "source": [
    "print(VE[39])"
   ]
  },
  {
   "cell_type": "code",
   "execution_count": 13,
   "id": "72b1ad76",
   "metadata": {},
   "outputs": [
    {
     "data": {
      "text/plain": [
       "[<matplotlib.lines.Line2D at 0x15b4f665a60>]"
      ]
     },
     "execution_count": 13,
     "metadata": {},
     "output_type": "execute_result"
    },
    {
     "data": {
      "image/png": "[encoded data removed]",
      "text/plain": [
       "<Figure size 432x288 with 1 Axes>"
      ]
     },
     "metadata": {
      "needs_background": "light"
     },
     "output_type": "display_data"
    }
   ],
   "source": [
    "band_x=np.linspace(0,59)\n",
    "plt.plot(VE)"
   ]
  },
  {
   "cell_type": "markdown",
   "id": "f5a28e02",
   "metadata": {},
   "source": [
    "Se establece parametro de prueba segun la data.   Se escoge la frecuencia 39 por su diferencia entre \n",
    "una imagen con cancer y una imagen sin cancer"
   ]
  },
  {
   "cell_type": "code",
   "execution_count": 14,
   "id": "f8860d62",
   "metadata": {},
   "outputs": [
    {
     "name": "stdout",
     "output_type": "stream",
     "text": [
      "Resultado Positivo\n"
     ]
    }
   ],
   "source": [
    "\n",
    "if VE[39]>6200:\n",
    "    print ('Resultado Negativo')\n",
    "if VE[39]<6200:\n",
    "    print ('Resultado Positivo')"
   ]
  },
  {
   "cell_type": "code",
   "execution_count": null,
   "id": "da55b1c3",
   "metadata": {},
   "outputs": [],
   "source": []
  }
 ],
 "metadata": {
  "kernelspec": {
   "display_name": "Python 3 (ipykernel)",
   "language": "python",
   "name": "python3"
  },
  "language_info": {
   "codemirror_mode": {
    "name": "ipython",
    "version": 3
   },
   "file_extension": ".py",
   "mimetype": "text/x-python",
   "name": "python",
   "nbconvert_exporter": "python",
   "pygments_lexer": "ipython3",
   "version": "3.9.7"
  }
 },
 "nbformat": 4,
 "nbformat_minor": 5
}
