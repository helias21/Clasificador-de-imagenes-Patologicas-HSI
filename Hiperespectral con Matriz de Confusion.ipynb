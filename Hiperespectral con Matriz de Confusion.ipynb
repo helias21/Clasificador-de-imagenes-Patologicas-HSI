{
 "cells": [
  {
   "cell_type": "code",
   "execution_count": 15,
   "id": "4bac7aaf",
   "metadata": {},
   "outputs": [],
   "source": [
    "from spectral import imshow, view_cube\n",
    "import spectral\n",
    "import spectral.io.envi as envi\n",
    "import numpy as np\n",
    "import matplotlib.pyplot as plt\n",
    "import matplotlib\n",
    "from pandas import Series,DataFrame\n",
    "%matplotlib inline\n",
    "import matplotlib.image as mpimg\n",
    "import os\n",
    "import cv2\n",
    "import re\n",
    "\n",
    "import pandas as pd\n",
    "import PIL\n",
    "from PIL import Image\n",
    "import random\n",
    "from tensorflow import keras\n",
    "from tensorflow.keras.preprocessing import image\n",
    "from tensorflow.keras.preprocessing.image import ImageDataGenerator\n",
    "from tensorflow.keras.models import Sequential\n",
    "from tensorflow.keras.layers import Dense, Activation, Flatten\n",
    "from tensorflow.keras.layers import Conv2D, MaxPooling2D\n"
   ]
  },
  {
   "cell_type": "code",
   "execution_count": 65,
   "id": "b967055f",
   "metadata": {},
   "outputs": [
    {
     "name": "stdout",
     "output_type": "stream",
     "text": [
      "['030406-20x-roi3.raw', '030653-20x-roi1.raw', '030653-20x-roi2.raw', '030653-20x-roi3.raw', '030653-20x-roi4.raw', '030653-20x-roi5.raw', '030979-20x-roi4.raw', '031169-20x-roi1.raw', '031169-20x-roi2.raw', '031169-20x-roi3.raw', '031169-20x-roi4.raw', '031169-20x-roi5.raw', '031193b-20x-roi3.raw', '032236c-20x-roi1.raw', '032370-20x-roi1.raw', '032370-20x-roi2.raw', '032370-20x-roi3.raw', '032370-20x-roi4.raw', '032370-20x-roi5.raw', '032370-20x-roi6.raw', '033629-20x-roi5.raw', '033629-20x-roi6.raw', '033942-20x-roi5.raw', '033942-20x-roi6.raw', '033942c-20x-roi4.raw', '034004c-20x-roi3.raw', '034004c-20x-roi5.raw', '034080-20x-roi2.raw', '034080-20x-roi3.raw', '034080-20x-roi4.raw', '034080-20x-roi5.raw', '034080-20x-roi6.raw', '040386-20x-roi1.raw', '040386-20x-roi2.raw', '040386-20x-roi3.raw', '040386-20x-roi4.raw', '040386-20x-roi5.raw', '040386-20x-roi6.raw', '040493-20x-roi5.raw', '040579-20x-roi7.raw', '040579-20x-roi9.raw', '041602-20x-roi4.raw', '041602-20x-roi5.raw', '041602-20x-roi9.raw', '2tata0301-20x-roi1.raw', '2tata0301-20x-roi2.raw', '2tata0301-20x-roi3.raw', '2tata0301-20x-roi4.raw', '2tata0301-20x-roi5.raw', '2tata0301-20x-roi6.raw', '2tata0302-20x-roi1.raw', '2tata0302-20x-roi2.raw', '2tata0302-20x-roi3.raw', '2tata0302-20x-roi5.raw', '2tata0302-20x-roi6.raw']\n"
     ]
    }
   ],
   "source": [
    "\n",
    "dir_P = 'Desktop/Hyperimages2/P/hyper/'\n",
    "contenido = os.listdir(dir_P)\n",
    "raw_P = []\n",
    "for fichero in contenido:\n",
    "    if os.path.isfile(os.path.join(dir_P, fichero)) and fichero.endswith('.raw'):\n",
    "        raw_P.append(fichero)\n",
    "print(raw_P)"
   ]
  },
  {
   "cell_type": "code",
   "execution_count": 66,
   "id": "0945839e",
   "metadata": {},
   "outputs": [
    {
     "name": "stdout",
     "output_type": "stream",
     "text": [
      "['030406-20x-roi3.hdr', '030653-20x-roi1.hdr', '030653-20x-roi2.hdr', '030653-20x-roi3.hdr', '030653-20x-roi4.hdr', '030653-20x-roi5.hdr', '030979-20x-roi4.hdr', '031169-20x-roi1.hdr', '031169-20x-roi2.hdr', '031169-20x-roi3.hdr', '031169-20x-roi4.hdr', '031169-20x-roi5.hdr', '031193b-20x-roi3.hdr', '032236c-20x-roi1.hdr', '032370-20x-roi1.hdr', '032370-20x-roi2.hdr', '032370-20x-roi3.hdr', '032370-20x-roi4.hdr', '032370-20x-roi5.hdr', '032370-20x-roi6.hdr', '033629-20x-roi5.hdr', '033629-20x-roi6.hdr', '033942-20x-roi5.hdr', '033942-20x-roi6.hdr', '033942c-20x-roi4.hdr', '034004c-20x-roi3.hdr', '034004c-20x-roi5.hdr', '034080-20x-roi2.hdr', '034080-20x-roi3.hdr', '034080-20x-roi4.hdr', '034080-20x-roi5.hdr', '034080-20x-roi6.hdr', '040386-20x-roi1.hdr', '040386-20x-roi2.hdr', '040386-20x-roi3.hdr', '040386-20x-roi4.hdr', '040386-20x-roi5.hdr', '040386-20x-roi6.hdr', '040493-20x-roi5.hdr', '040579-20x-roi7.hdr', '040579-20x-roi9.hdr', '041602-20x-roi4.hdr', '041602-20x-roi5.hdr', '041602-20x-roi9.hdr', '2tata0301-20x-roi1.hdr', '2tata0301-20x-roi2.hdr', '2tata0301-20x-roi3.hdr', '2tata0301-20x-roi4.hdr', '2tata0301-20x-roi5.hdr', '2tata0301-20x-roi6.hdr', '2tata0302-20x-roi1.hdr', '2tata0302-20x-roi2.hdr', '2tata0302-20x-roi3.hdr', '2tata0302-20x-roi5.hdr', '2tata0302-20x-roi6.hdr']\n"
     ]
    }
   ],
   "source": [
    "dir_P = 'Desktop/Hyperimages2/P/hyper/'\n",
    "contenido = os.listdir(dir_P)\n",
    "hdr_P = []\n",
    "for fichero in contenido:\n",
    "    if os.path.isfile(os.path.join(dir_P, fichero)) and fichero.endswith('.hdr'):\n",
    "        hdr_P.append(fichero)\n",
    "print(hdr_P)"
   ]
  },
  {
   "cell_type": "code",
   "execution_count": 21,
   "id": "10b3d498",
   "metadata": {},
   "outputs": [
    {
     "data": {
      "text/plain": [
       "list"
      ]
     },
     "execution_count": 21,
     "metadata": {},
     "output_type": "execute_result"
    }
   ],
   "source": [
    "type(hdr_P)"
   ]
  },
  {
   "cell_type": "code",
   "execution_count": 22,
   "id": "c11f387d",
   "metadata": {},
   "outputs": [
    {
     "data": {
      "text/plain": [
       "55"
      ]
     },
     "execution_count": 22,
     "metadata": {},
     "output_type": "execute_result"
    }
   ],
   "source": [
    "len(hdr_P)"
   ]
  },
  {
   "cell_type": "code",
   "execution_count": 39,
   "id": "feb88b10",
   "metadata": {},
   "outputs": [
    {
     "name": "stdout",
     "output_type": "stream",
     "text": [
      "2tata0302-20x-roi3.hdr\n"
     ]
    }
   ],
   "source": [
    "print(hdr_P[52])"
   ]
  },
  {
   "cell_type": "code",
   "execution_count": 40,
   "id": "feec721f",
   "metadata": {},
   "outputs": [
    {
     "data": {
      "text/plain": [
       "'Desktop/Hyperimages2/P/hyper/030406-20x-roi3.hdr'"
      ]
     },
     "execution_count": 40,
     "metadata": {},
     "output_type": "execute_result"
    }
   ],
   "source": [
    "dir_P+hdr_P[0]"
   ]
  },
  {
   "cell_type": "code",
   "execution_count": 67,
   "id": "93614c96",
   "metadata": {},
   "outputs": [],
   "source": [
    "hiper=[]\n",
    "y_act=[]\n",
    "y_pred=[]\n",
    "for x in range (0,55):\n",
    "    imghdr=envi.open(dir_P+hdr[x], dir_P+raw[x])\n",
    "               \n",
    "    #print(imghdr.shape)\n",
    "    imghdr_nparr = np.array(imghdr.load())\n",
    "    V=imghdr_nparr.mean(axis=1)\n",
    "    VE=V.mean(axis=0)\n",
    "    if VE[39]>6200:\n",
    "        hiper.append((hdr_P[x]+' Negativo'))\n",
    "        #hiper[len(x).append(hdr[x],'Negativo')]\n",
    "        y_act.append(0)\n",
    "        y_pred.append(0)        \n",
    "    else:\n",
    "        hiper.append(hdr_P[x]+' Positivo')\n",
    "        y_act.append(1)\n",
    "        y_pred.append(0)\n",
    "    \n",
    "    #print(imghdr_nparr_x.shape)\n",
    "#hiper[0].shape"
   ]
  },
  {
   "cell_type": "code",
   "execution_count": 42,
   "id": "4b45405a",
   "metadata": {},
   "outputs": [
    {
     "name": "stdout",
     "output_type": "stream",
     "text": [
      "['030406-20x-roi3.hdr Negativo', '030653-20x-roi1.hdr Negativo', '030653-20x-roi2.hdr Negativo', '030653-20x-roi3.hdr Negativo', '030653-20x-roi4.hdr Negativo', '030653-20x-roi5.hdr Negativo', '030979-20x-roi4.hdr Positivo', '031169-20x-roi1.hdr Positivo', '031169-20x-roi2.hdr Positivo', '031169-20x-roi3.hdr Positivo', '031169-20x-roi4.hdr Positivo', '031169-20x-roi5.hdr Positivo', '031193b-20x-roi3.hdr Positivo', '032236c-20x-roi1.hdr Positivo', '032370-20x-roi1.hdr Negativo', '032370-20x-roi2.hdr Negativo', '032370-20x-roi3.hdr Negativo', '032370-20x-roi4.hdr Negativo', '032370-20x-roi5.hdr Negativo', '032370-20x-roi6.hdr Negativo', '033629-20x-roi5.hdr Positivo', '033629-20x-roi6.hdr Positivo', '033942-20x-roi5.hdr Negativo', '033942-20x-roi6.hdr Negativo', '033942c-20x-roi4.hdr Positivo', '034004c-20x-roi3.hdr Positivo', '034004c-20x-roi5.hdr Positivo', '034080-20x-roi2.hdr Positivo', '034080-20x-roi3.hdr Positivo', '034080-20x-roi4.hdr Positivo', '034080-20x-roi5.hdr Positivo', '034080-20x-roi6.hdr Positivo', '040386-20x-roi1.hdr Negativo', '040386-20x-roi2.hdr Negativo', '040386-20x-roi3.hdr Negativo', '040386-20x-roi4.hdr Negativo', '040386-20x-roi5.hdr Negativo', '040386-20x-roi6.hdr Negativo', '040493-20x-roi5.hdr Negativo', '040579-20x-roi7.hdr Positivo', '040579-20x-roi9.hdr Positivo', '041602-20x-roi4.hdr Negativo', '041602-20x-roi5.hdr Negativo', '041602-20x-roi9.hdr Negativo', '2tata0301-20x-roi1.hdr Negativo', '2tata0301-20x-roi2.hdr Negativo', '2tata0301-20x-roi3.hdr Negativo', '2tata0301-20x-roi4.hdr Negativo', '2tata0301-20x-roi5.hdr Negativo', '2tata0301-20x-roi6.hdr Negativo', '2tata0302-20x-roi1.hdr Negativo', '2tata0302-20x-roi2.hdr Negativo', '2tata0302-20x-roi3.hdr Negativo', '2tata0302-20x-roi5.hdr Negativo', '2tata0302-20x-roi6.hdr Negativo'] \n",
      "\n"
     ]
    }
   ],
   "source": [
    "print(hiper,\"\\n\")\n",
    "#print(hiper)\"\\n\""
   ]
  },
  {
   "cell_type": "code",
   "execution_count": 43,
   "id": "714f2edf",
   "metadata": {},
   "outputs": [
    {
     "data": {
      "text/plain": [
       "['030406-20x-roi3.hdr Negativo',\n",
       " '030653-20x-roi1.hdr Negativo',\n",
       " '030653-20x-roi2.hdr Negativo',\n",
       " '030653-20x-roi3.hdr Negativo',\n",
       " '030653-20x-roi4.hdr Negativo',\n",
       " '030653-20x-roi5.hdr Negativo',\n",
       " '030979-20x-roi4.hdr Positivo',\n",
       " '031169-20x-roi1.hdr Positivo',\n",
       " '031169-20x-roi2.hdr Positivo',\n",
       " '031169-20x-roi3.hdr Positivo',\n",
       " '031169-20x-roi4.hdr Positivo',\n",
       " '031169-20x-roi5.hdr Positivo',\n",
       " '031193b-20x-roi3.hdr Positivo',\n",
       " '032236c-20x-roi1.hdr Positivo',\n",
       " '032370-20x-roi1.hdr Negativo',\n",
       " '032370-20x-roi2.hdr Negativo',\n",
       " '032370-20x-roi3.hdr Negativo',\n",
       " '032370-20x-roi4.hdr Negativo',\n",
       " '032370-20x-roi5.hdr Negativo',\n",
       " '032370-20x-roi6.hdr Negativo',\n",
       " '033629-20x-roi5.hdr Positivo',\n",
       " '033629-20x-roi6.hdr Positivo',\n",
       " '033942-20x-roi5.hdr Negativo',\n",
       " '033942-20x-roi6.hdr Negativo',\n",
       " '033942c-20x-roi4.hdr Positivo',\n",
       " '034004c-20x-roi3.hdr Positivo',\n",
       " '034004c-20x-roi5.hdr Positivo',\n",
       " '034080-20x-roi2.hdr Positivo',\n",
       " '034080-20x-roi3.hdr Positivo',\n",
       " '034080-20x-roi4.hdr Positivo',\n",
       " '034080-20x-roi5.hdr Positivo',\n",
       " '034080-20x-roi6.hdr Positivo',\n",
       " '040386-20x-roi1.hdr Negativo',\n",
       " '040386-20x-roi2.hdr Negativo',\n",
       " '040386-20x-roi3.hdr Negativo',\n",
       " '040386-20x-roi4.hdr Negativo',\n",
       " '040386-20x-roi5.hdr Negativo',\n",
       " '040386-20x-roi6.hdr Negativo',\n",
       " '040493-20x-roi5.hdr Negativo',\n",
       " '040579-20x-roi7.hdr Positivo',\n",
       " '040579-20x-roi9.hdr Positivo',\n",
       " '041602-20x-roi4.hdr Negativo',\n",
       " '041602-20x-roi5.hdr Negativo',\n",
       " '041602-20x-roi9.hdr Negativo',\n",
       " '2tata0301-20x-roi1.hdr Negativo',\n",
       " '2tata0301-20x-roi2.hdr Negativo',\n",
       " '2tata0301-20x-roi3.hdr Negativo',\n",
       " '2tata0301-20x-roi4.hdr Negativo',\n",
       " '2tata0301-20x-roi5.hdr Negativo',\n",
       " '2tata0301-20x-roi6.hdr Negativo',\n",
       " '2tata0302-20x-roi1.hdr Negativo',\n",
       " '2tata0302-20x-roi2.hdr Negativo',\n",
       " '2tata0302-20x-roi3.hdr Negativo',\n",
       " '2tata0302-20x-roi5.hdr Negativo',\n",
       " '2tata0302-20x-roi6.hdr Negativo']"
      ]
     },
     "execution_count": 43,
     "metadata": {},
     "output_type": "execute_result"
    }
   ],
   "source": [
    "list(hiper)"
   ]
  },
  {
   "cell_type": "code",
   "execution_count": 44,
   "id": "86c3d00b",
   "metadata": {},
   "outputs": [
    {
     "data": {
      "text/plain": [
       "(1024, 1280, 60)"
      ]
     },
     "execution_count": 44,
     "metadata": {},
     "output_type": "execute_result"
    }
   ],
   "source": [
    "imghdr_nparr.shape\n"
   ]
  },
  {
   "cell_type": "code",
   "execution_count": 45,
   "id": "34f78ded",
   "metadata": {},
   "outputs": [
    {
     "name": "stdout",
     "output_type": "stream",
     "text": [
      "[0, 0, 0, 0, 0, 0, 0, 0, 0, 0, 0, 0, 0, 0, 0, 0, 0, 0, 0, 0, 0, 0, 0, 0, 0, 0, 0, 0, 0, 0, 0, 0, 0, 0, 0, 0, 0, 0, 0, 0, 0, 0, 0, 0, 0, 0, 0, 0, 0, 0, 0, 0, 0, 0, 0]\n"
     ]
    }
   ],
   "source": [
    "print(y_act)"
   ]
  },
  {
   "cell_type": "code",
   "execution_count": 46,
   "id": "dfb54ab2",
   "metadata": {},
   "outputs": [
    {
     "name": "stdout",
     "output_type": "stream",
     "text": [
      "[0, 0, 0, 0, 0, 0, 1, 1, 1, 1, 1, 1, 1, 1, 0, 0, 0, 0, 0, 0, 1, 1, 0, 0, 1, 1, 1, 1, 1, 1, 1, 1, 0, 0, 0, 0, 0, 0, 0, 1, 1, 0, 0, 0, 0, 0, 0, 0, 0, 0, 0, 0, 0, 0, 0]\n"
     ]
    }
   ],
   "source": [
    "print(y_pred)"
   ]
  },
  {
   "cell_type": "code",
   "execution_count": 68,
   "id": "81da025a",
   "metadata": {},
   "outputs": [],
   "source": [
    "dir_N = 'Desktop/Hyperimages2/N/hyper/'\n",
    "contenido = os.listdir(dir_N)\n",
    "raw_N = []\n",
    "for fichero in contenido:\n",
    "    if os.path.isfile(os.path.join(dir_N, fichero)) and fichero.endswith('.raw'):\n",
    "        raw_N.append(fichero)\n",
    "#print(raw_P)"
   ]
  },
  {
   "cell_type": "code",
   "execution_count": 69,
   "id": "20955395",
   "metadata": {},
   "outputs": [],
   "source": [
    "dir_N = 'Desktop/Hyperimages2/N/hyper/'\n",
    "contenido = os.listdir(dir_N)\n",
    "hdr_N = []\n",
    "for fichero in contenido:\n",
    "    if os.path.isfile(os.path.join(dir_N, fichero)) and fichero.endswith('.hdr'):\n",
    "        hdr_N.append(fichero)\n",
    "#print(hdr_N)"
   ]
  },
  {
   "cell_type": "code",
   "execution_count": 70,
   "id": "b22e53a2",
   "metadata": {},
   "outputs": [
    {
     "data": {
      "text/plain": [
       "67"
      ]
     },
     "execution_count": 70,
     "metadata": {},
     "output_type": "execute_result"
    }
   ],
   "source": [
    "len(hdr_N)"
   ]
  },
  {
   "cell_type": "code",
   "execution_count": 71,
   "id": "3d3edd43",
   "metadata": {},
   "outputs": [],
   "source": [
    "for x in range (0,67):\n",
    "    imghdr=envi.open(dir_N+hdr_N[x], dir_N+raw_N[x])\n",
    "               \n",
    "    #print(imghdr.shape)\n",
    "    imghdr_nparr = np.array(imghdr.load())\n",
    "    V=imghdr_nparr.mean(axis=1)\n",
    "    VE=V.mean(axis=0)\n",
    "    if VE[39]>6200:\n",
    "        hiper.append((hdr_N[x]+' Negativo'))\n",
    "        #hiper[len(x).append(hdr[x],'Negativo')]\n",
    "        y_act.append(0)\n",
    "        y_pred.append(1)        \n",
    "    else:\n",
    "        hiper.append(hdr_N[x]+' Positivo')\n",
    "        y_act.append(1)\n",
    "        y_pred.append(1)\n"
   ]
  },
  {
   "cell_type": "code",
   "execution_count": 72,
   "id": "484926eb",
   "metadata": {},
   "outputs": [
    {
     "name": "stdout",
     "output_type": "stream",
     "text": [
      "[0, 0, 0, 0, 0, 0, 0, 0, 0, 0, 0, 0, 0, 0, 0, 0, 0, 0, 0, 0, 0, 0, 0, 0, 0, 0, 0, 0, 0, 0, 0, 0, 0, 0, 0, 0, 0, 0, 0, 0, 0, 0, 0, 0, 0, 0, 0, 0, 0, 0, 0, 0, 0, 0, 0, 1, 1, 1, 1, 1, 1, 1, 1, 1, 1, 1, 1, 1, 1, 1, 1, 1, 1, 1, 1, 1, 1, 1, 1, 1, 1, 1, 1, 1, 1, 1, 1, 1, 1, 1, 1, 1, 1, 1, 1, 1, 1, 1, 1, 1, 1, 1, 1, 1, 1, 1, 1, 1, 1, 1, 1, 1, 1, 1, 1, 1, 1, 1, 1, 1, 1, 1]\n"
     ]
    }
   ],
   "source": [
    "print(y_pred)"
   ]
  },
  {
   "cell_type": "code",
   "execution_count": 73,
   "id": "da70839b",
   "metadata": {},
   "outputs": [],
   "source": [
    "dir_L = 'Desktop/Hyperimages2/L/hyper/'\n",
    "contenido = os.listdir(dir_L)\n",
    "raw_L = []\n",
    "for fichero in contenido:\n",
    "    if os.path.isfile(os.path.join(dir_L, fichero)) and fichero.endswith('.raw'):\n",
    "        raw_L.append(fichero)"
   ]
  },
  {
   "cell_type": "code",
   "execution_count": 74,
   "id": "3cec6135",
   "metadata": {},
   "outputs": [],
   "source": [
    "dir_L = 'Desktop/Hyperimages2/L/hyper/'\n",
    "contenido = os.listdir(dir_L)\n",
    "hdr_L = []\n",
    "for fichero in contenido:\n",
    "    if os.path.isfile(os.path.join(dir_L, fichero)) and fichero.endswith('.hdr'):\n",
    "        hdr_L.append(fichero)\n"
   ]
  },
  {
   "cell_type": "code",
   "execution_count": 75,
   "id": "d1722f74",
   "metadata": {},
   "outputs": [
    {
     "data": {
      "text/plain": [
       "321"
      ]
     },
     "execution_count": 75,
     "metadata": {},
     "output_type": "execute_result"
    }
   ],
   "source": [
    "len(hdr_L)"
   ]
  },
  {
   "cell_type": "code",
   "execution_count": 76,
   "id": "9fd2ea4a",
   "metadata": {},
   "outputs": [],
   "source": [
    "for x in range (0,321):\n",
    "    imghdr=envi.open(dir_L+hdr_L[x], dir_L+raw_L[x])\n",
    "               \n",
    "    #print(imghdr.shape)\n",
    "    imghdr_nparr = np.array(imghdr.load())\n",
    "    V=imghdr_nparr.mean(axis=1)\n",
    "    VE=V.mean(axis=0)\n",
    "    if VE[39]>6200:\n",
    "        hiper.append((hdr_L[x]+' Negativo'))\n",
    "        #hiper[len(x).append(hdr[x],'Negativo')]\n",
    "        y_act.append(0)\n",
    "        y_pred.append(1)        \n",
    "    else:\n",
    "        hiper.append(hdr_L[x]+' Positivo')\n",
    "        y_act.append(1)\n",
    "        y_pred.append(1)\n"
   ]
  },
  {
   "cell_type": "code",
   "execution_count": 77,
   "id": "68e3f476",
   "metadata": {},
   "outputs": [
    {
     "data": {
      "text/plain": [
       "443"
      ]
     },
     "execution_count": 77,
     "metadata": {},
     "output_type": "execute_result"
    }
   ],
   "source": [
    "len(y_pred)"
   ]
  },
  {
   "cell_type": "code",
   "execution_count": 85,
   "id": "a9b3f926",
   "metadata": {},
   "outputs": [
    {
     "name": "stdout",
     "output_type": "stream",
     "text": [
      "[0, 0, 0, 0, 0, 0, 0, 0, 0, 0, 0, 0, 0, 0, 0, 0, 0, 0, 0, 0, 0, 0, 0, 0, 0, 0, 0, 0, 0, 0, 0, 0, 0, 0, 0, 0, 0, 0, 0, 0, 0, 0, 0, 0, 0, 0, 0, 0, 0, 0, 0, 0, 0, 0, 0, 1, 1, 1, 1, 1, 1, 1, 1, 1, 1, 1, 1, 1, 1, 1, 1, 1, 1, 1, 1, 1, 1, 1, 1, 1, 1, 1, 1, 1, 1, 1, 1, 1, 1, 1, 1, 1, 1, 1, 1, 1, 1, 1, 1, 1, 1, 1, 1, 1, 1, 1, 1, 1, 1, 1, 1, 1, 1, 1, 1, 1, 1, 1, 1, 1, 1, 1, 1, 1, 1, 1, 1, 1, 1, 1, 1, 1, 1, 1, 1, 1, 1, 1, 1, 1, 1, 1, 1, 1, 1, 1, 1, 1, 1, 1, 1, 1, 1, 1, 1, 1, 1, 1, 1, 1, 1, 1, 1, 1, 1, 1, 1, 1, 1, 1, 1, 1, 1, 1, 1, 1, 1, 1, 1, 1, 1, 1, 1, 1, 1, 1, 1, 1, 1, 1, 1, 1, 1, 1, 1, 1, 1, 1, 1, 1, 1, 1, 1, 1, 1, 1, 1, 1, 1, 1, 1, 1, 1, 1, 1, 1, 1, 1, 1, 1, 1, 1, 1, 1, 1, 1, 1, 1, 1, 1, 1, 1, 1, 1, 1, 1, 1, 1, 1, 1, 1, 1, 1, 1, 1, 1, 1, 1, 1, 1, 1, 1, 1, 1, 1, 1, 1, 1, 1, 1, 1, 1, 1, 1, 1, 1, 1, 1, 1, 1, 1, 1, 1, 1, 1, 1, 1, 1, 1, 1, 1, 1, 1, 1, 1, 1, 1, 1, 1, 1, 1, 1, 1, 1, 1, 1, 1, 1, 1, 1, 1, 1, 1, 1, 1, 1, 1, 1, 1, 1, 1, 1, 1, 1, 1, 1, 1, 1, 1, 1, 1, 1, 1, 1, 1, 1, 1, 1, 1, 1, 1, 1, 1, 1, 1, 1, 1, 1, 1, 1, 1, 1, 1, 1, 1, 1, 1, 1, 1, 1, 1, 1, 1, 1, 1, 1, 1, 1, 1, 1, 1, 1, 1, 1, 1, 1, 1, 1, 1, 1, 1, 1, 1, 1, 1, 1, 1, 1, 1, 1, 1, 1, 1, 1, 1, 1, 1, 1, 1, 1, 1, 1, 1, 1, 1, 1, 1, 1, 1, 1, 1, 1, 1, 1, 1, 1, 1, 1, 1, 1, 1, 1, 1, 1, 1, 1, 1, 1, 1, 1, 1, 1, 1, 1, 1, 1, 1, 1, 1, 1, 1, 1, 1, 1, 1, 1, 1, 1, 1, 1, 1, 1, 1]\n"
     ]
    }
   ],
   "source": [
    "print(y_pred)"
   ]
  },
  {
   "cell_type": "code",
   "execution_count": 86,
   "id": "c4fcef13",
   "metadata": {},
   "outputs": [
    {
     "name": "stdout",
     "output_type": "stream",
     "text": [
      "[0, 0, 0, 0, 0, 0, 1, 1, 1, 1, 1, 1, 1, 1, 0, 0, 0, 0, 0, 0, 1, 1, 0, 0, 1, 1, 1, 1, 1, 1, 1, 1, 0, 0, 0, 0, 0, 0, 0, 1, 1, 0, 0, 0, 0, 0, 0, 0, 0, 0, 0, 0, 0, 0, 0, 1, 1, 1, 1, 1, 0, 0, 0, 0, 0, 0, 0, 0, 0, 0, 0, 0, 0, 0, 0, 0, 0, 0, 0, 0, 0, 0, 0, 0, 0, 0, 0, 0, 0, 0, 0, 1, 1, 1, 1, 1, 1, 1, 0, 1, 1, 1, 1, 1, 1, 1, 1, 1, 1, 1, 1, 1, 1, 1, 1, 1, 0, 0, 1, 1, 1, 1, 0, 0, 0, 0, 1, 1, 1, 1, 1, 1, 1, 1, 1, 1, 1, 1, 1, 1, 1, 1, 1, 1, 1, 1, 1, 1, 1, 1, 1, 1, 0, 0, 0, 0, 0, 0, 1, 1, 1, 0, 1, 1, 0, 0, 0, 1, 1, 1, 1, 0, 0, 0, 0, 0, 0, 0, 1, 1, 0, 0, 0, 0, 0, 0, 1, 1, 1, 0, 0, 0, 0, 1, 1, 1, 1, 1, 1, 1, 1, 1, 1, 1, 1, 1, 1, 1, 1, 1, 1, 1, 0, 0, 0, 0, 0, 0, 0, 0, 0, 0, 1, 1, 1, 1, 1, 1, 1, 1, 1, 1, 1, 1, 1, 1, 1, 1, 0, 0, 0, 0, 0, 0, 0, 0, 0, 0, 0, 1, 1, 1, 1, 1, 0, 0, 0, 0, 0, 0, 0, 0, 0, 0, 0, 0, 0, 0, 1, 1, 1, 1, 0, 0, 0, 0, 0, 1, 1, 1, 1, 1, 1, 1, 1, 1, 1, 1, 1, 1, 1, 1, 1, 1, 1, 1, 1, 0, 0, 0, 0, 1, 1, 1, 1, 1, 1, 1, 1, 0, 0, 0, 0, 0, 0, 0, 0, 0, 0, 0, 0, 0, 0, 0, 0, 1, 1, 1, 1, 1, 1, 1, 0, 0, 0, 0, 0, 0, 0, 0, 0, 0, 0, 0, 0, 0, 0, 0, 0, 0, 0, 0, 0, 0, 0, 0, 0, 0, 0, 0, 0, 0, 0, 0, 0, 0, 0, 0, 0, 0, 0, 0, 0, 0, 0, 0, 0, 0, 0, 0, 0, 0, 0, 0, 0, 0, 0, 0, 0, 0, 0, 0, 1, 1, 1, 1, 1, 1, 0, 0, 0, 0, 0, 0, 0, 0, 1, 1, 1, 1, 1, 0, 0, 0, 0, 0, 0, 0, 0, 0, 1, 1, 1, 1, 0, 0, 0, 0, 1, 1, 1, 0, 0, 0, 0, 0, 0, 0, 0, 0, 0, 0, 1]\n"
     ]
    }
   ],
   "source": [
    "print(y_act)"
   ]
  },
  {
   "cell_type": "code",
   "execution_count": 78,
   "id": "7846cbef",
   "metadata": {},
   "outputs": [],
   "source": [
    "act=np.array(y_act)\n",
    "            "
   ]
  },
  {
   "cell_type": "code",
   "execution_count": 79,
   "id": "6ceb28f4",
   "metadata": {},
   "outputs": [
    {
     "data": {
      "text/plain": [
       "(443,)"
      ]
     },
     "execution_count": 79,
     "metadata": {},
     "output_type": "execute_result"
    }
   ],
   "source": [
    "act.shape\n"
   ]
  },
  {
   "cell_type": "code",
   "execution_count": 87,
   "id": "bdc3c88d",
   "metadata": {},
   "outputs": [
    {
     "name": "stdout",
     "output_type": "stream",
     "text": [
      "[0 0 0 0 0 0 1 1 1 1 1 1 1 1 0 0 0 0 0 0 1 1 0 0 1 1 1 1 1 1 1 1 0 0 0 0 0\n",
      " 0 0 1 1 0 0 0 0 0 0 0 0 0 0 0 0 0 0 1 1 1 1 1 0 0 0 0 0 0 0 0 0 0 0 0 0 0\n",
      " 0 0 0 0 0 0 0 0 0 0 0 0 0 0 0 0 0 1 1 1 1 1 1 1 0 1 1 1 1 1 1 1 1 1 1 1 1\n",
      " 1 1 1 1 1 0 0 1 1 1 1 0 0 0 0 1 1 1 1 1 1 1 1 1 1 1 1 1 1 1 1 1 1 1 1 1 1\n",
      " 1 1 1 1 0 0 0 0 0 0 1 1 1 0 1 1 0 0 0 1 1 1 1 0 0 0 0 0 0 0 1 1 0 0 0 0 0\n",
      " 0 1 1 1 0 0 0 0 1 1 1 1 1 1 1 1 1 1 1 1 1 1 1 1 1 1 1 0 0 0 0 0 0 0 0 0 0\n",
      " 1 1 1 1 1 1 1 1 1 1 1 1 1 1 1 1 0 0 0 0 0 0 0 0 0 0 0 1 1 1 1 1 0 0 0 0 0\n",
      " 0 0 0 0 0 0 0 0 0 1 1 1 1 0 0 0 0 0 1 1 1 1 1 1 1 1 1 1 1 1 1 1 1 1 1 1 1\n",
      " 1 0 0 0 0 1 1 1 1 1 1 1 1 0 0 0 0 0 0 0 0 0 0 0 0 0 0 0 0 1 1 1 1 1 1 1 0\n",
      " 0 0 0 0 0 0 0 0 0 0 0 0 0 0 0 0 0 0 0 0 0 0 0 0 0 0 0 0 0 0 0 0 0 0 0 0 0\n",
      " 0 0 0 0 0 0 0 0 0 0 0 0 0 0 0 0 0 0 0 0 0 0 1 1 1 1 1 1 0 0 0 0 0 0 0 0 1\n",
      " 1 1 1 1 0 0 0 0 0 0 0 0 0 1 1 1 1 0 0 0 0 1 1 1 0 0 0 0 0 0 0 0 0 0 0 1]\n"
     ]
    }
   ],
   "source": [
    "print(act)"
   ]
  },
  {
   "cell_type": "code",
   "execution_count": 88,
   "id": "c62bcefc",
   "metadata": {},
   "outputs": [],
   "source": [
    "pred=np.array(y_pred)"
   ]
  },
  {
   "cell_type": "code",
   "execution_count": 89,
   "id": "67921c26",
   "metadata": {},
   "outputs": [],
   "source": [
    "from pycm import *\n",
    "cm=ConfusionMatrix(act,pred, digit=5)"
   ]
  },
  {
   "cell_type": "code",
   "execution_count": 90,
   "id": "774ec3e9",
   "metadata": {},
   "outputs": [
    {
     "name": "stdout",
     "output_type": "stream",
     "text": [
      "Predict   0         1         \n",
      "Actual\n",
      "0         35        217       \n",
      "\n",
      "1         20        171       \n",
      "\n",
      "\n",
      "\n",
      "\n",
      "\n",
      "Overall Statistics : \n",
      "\n",
      "95% CI                                                            (0.41856,0.51146)\n",
      "ACC Macro                                                         0.46501\n",
      "ARI                                                               -0.00686\n",
      "AUNP                                                              0.51709\n",
      "AUNU                                                              0.51709\n",
      "Bangdiwala B                                                      0.34633\n",
      "Bennett S                                                         -0.06998\n",
      "CBA                                                               0.28981\n",
      "CSI                                                               0.05563\n",
      "Chi-Squared                                                       1.1671\n",
      "Chi-Squared DF                                                    1\n",
      "Conditional Entropy                                               0.53926\n",
      "Cramer V                                                          0.05133\n",
      "Cross Entropy                                                     1.79458\n",
      "F1 Macro                                                          0.40934\n",
      "F1 Micro                                                          0.46501\n",
      "FNR Macro                                                         0.48291\n",
      "FNR Micro                                                         0.53499\n",
      "FPR Macro                                                         0.48291\n",
      "FPR Micro                                                         0.53499\n",
      "Gwet AC1                                                          0.02218\n",
      "Hamming Loss                                                      0.53499\n",
      "Joint Entropy                                                     1.52554\n",
      "KL Divergence                                                     0.8083\n",
      "Kappa                                                             0.03038\n",
      "Kappa 95% CI                                                      (-0.0538,0.11456)\n",
      "Kappa No Prevalence                                               -0.06998\n",
      "Kappa Standard Error                                              0.04295\n",
      "Kappa Unbiased                                                    -0.18131\n",
      "Krippendorff Alpha                                                -0.17998\n",
      "Lambda A                                                          0.0\n",
      "Lambda B                                                          0.0\n",
      "Mutual Information                                                0.00193\n",
      "NIR                                                               0.56885\n",
      "Overall ACC                                                       0.46501\n",
      "Overall CEN                                                       0.66792\n",
      "Overall J                                                         (0.54779,0.2739)\n",
      "Overall MCC                                                       0.05133\n",
      "Overall MCEN                                                      0.48612\n",
      "Overall RACC                                                      0.44825\n",
      "Overall RACCU                                                     0.54712\n",
      "P-Value                                                           1.0\n",
      "PPV Macro                                                         0.53854\n",
      "PPV Micro                                                         0.46501\n",
      "Pearson C                                                         0.05126\n",
      "Phi-Squared                                                       0.00263\n",
      "RCI                                                               0.00195\n",
      "RR                                                                221.5\n",
      "Reference Entropy                                                 0.98628\n",
      "Response Entropy                                                  0.54118\n",
      "SOA1(Landis & Koch)                                               Slight\n",
      "SOA2(Fleiss)                                                      Poor\n",
      "SOA3(Altman)                                                      Poor\n",
      "SOA4(Cicchetti)                                                   Poor\n",
      "SOA5(Cramer)                                                      Negligible\n",
      "SOA6(Matthews)                                                    Negligible\n",
      "Scott PI                                                          -0.18131\n",
      "Standard Error                                                    0.0237\n",
      "TNR Macro                                                         0.51709\n",
      "TNR Micro                                                         0.46501\n",
      "TPR Macro                                                         0.51709\n",
      "TPR Micro                                                         0.46501\n",
      "Zero-one Loss                                                     237\n",
      "\n",
      "Class Statistics :\n",
      "\n",
      "Classes                                                           0             1             \n",
      "ACC(Accuracy)                                                     0.46501       0.46501       \n",
      "AGF(Adjusted F-score)                                             0.28418       0.52457       \n",
      "AGM(Adjusted geometric mean)                                      0.51611       0.27513       \n",
      "AM(Difference between automatic and manual classification)        -197          197           \n",
      "AUC(Area under the ROC curve)                                     0.51709       0.51709       \n",
      "AUCI(AUC value interpretation)                                    Poor          Poor          \n",
      "AUPR(Area under the PR curve)                                     0.38763       0.668         \n",
      "BCD(Bray-Curtis dissimilarity)                                    0.22235       0.22235       \n",
      "BM(Informedness or bookmaker informedness)                        0.03418       0.03418       \n",
      "CEN(Confusion entropy)                                            0.61049       0.69836       \n",
      "DOR(Diagnostic odds ratio)                                        1.37903       1.37903       \n",
      "DP(Discriminant power)                                            0.07695       0.07695       \n",
      "DPI(Discriminant power interpretation)                            Poor          Poor          \n",
      "ERR(Error rate)                                                   0.53499       0.53499       \n",
      "F0.5(F0.5 score)                                                  0.37076       0.49053       \n",
      "F1(F1 score - harmonic mean of precision and sensitivity)         0.22801       0.59067       \n",
      "F2(F2 score)                                                      0.16463       0.74219       \n",
      "FDR(False discovery rate)                                         0.36364       0.55928       \n",
      "FN(False negative/miss/type 2 error)                              217           20            \n",
      "FNR(Miss rate or false negative rate)                             0.86111       0.10471       \n",
      "FOR(False omission rate)                                          0.55928       0.36364       \n",
      "FP(False positive/type 1 error/false alarm)                       20            217           \n",
      "FPR(Fall-out or false positive rate)                              0.10471       0.86111       \n",
      "G(G-measure geometric mean of precision and sensitivity)          0.29729       0.62815       \n",
      "GI(Gini index)                                                    0.03418       0.03418       \n",
      "GM(G-mean geometric mean of specificity and sensitivity)          0.35263       0.35263       \n",
      "IBA(Index of balanced accuracy)                                   0.03029       0.2184        \n",
      "ICSI(Individual classification success index)                     -0.22475      0.33601       \n",
      "IS(Information score)                                             0.16181       0.03167       \n",
      "J(Jaccard index)                                                  0.12868       0.41912       \n",
      "LS(Lift score)                                                    1.11869       1.0222        \n",
      "MCC(Matthews correlation coefficient)                             0.05133       0.05133       \n",
      "MCCI(Matthews correlation coefficient interpretation)             Negligible    Negligible    \n",
      "MCEN(Modified confusion entropy)                                  0.53689       0.69772       \n",
      "MK(Markedness)                                                    0.07709       0.07709       \n",
      "N(Condition negative)                                             191           252           \n",
      "NLR(Negative likelihood ratio)                                    0.96183       0.75393       \n",
      "NLRI(Negative likelihood ratio interpretation)                    Negligible    Negligible    \n",
      "NPV(Negative predictive value)                                    0.44072       0.63636       \n",
      "OC(Overlap coefficient)                                           0.63636       0.89529       \n",
      "OOC(Otsuka-Ochiai coefficient)                                    0.29729       0.62815       \n",
      "OP(Optimized precision)                                           -0.26639      -0.26639      \n",
      "P(Condition positive or support)                                  252           191           \n",
      "PLR(Positive likelihood ratio)                                    1.32639       1.03969       \n",
      "PLRI(Positive likelihood ratio interpretation)                    Poor          Poor          \n",
      "POP(Population)                                                   443           443           \n",
      "PPV(Precision or positive predictive value)                       0.63636       0.44072       \n",
      "PRE(Prevalence)                                                   0.56885       0.43115       \n",
      "Q(Yule Q - coefficient of colligation)                            0.15932       0.15932       \n",
      "QI(Yule Q interpretation)                                         Negligible    Negligible    \n",
      "RACC(Random accuracy)                                             0.07062       0.37762       \n",
      "RACCU(Random accuracy unbiased)                                   0.12006       0.42706       \n",
      "TN(True negative/correct rejection)                               171           35            \n",
      "TNR(Specificity or true negative rate)                            0.89529       0.13889       \n",
      "TON(Test outcome negative)                                        388           55            \n",
      "TOP(Test outcome positive)                                        55            388           \n",
      "TP(True positive/hit)                                             35            171           \n",
      "TPR(Sensitivity, recall, hit rate, or true positive rate)         0.13889       0.89529       \n",
      "Y(Youden index)                                                   0.03418       0.03418       \n",
      "dInd(Distance index)                                              0.86745       0.86745       \n",
      "sInd(Similarity index)                                            0.38662       0.38662       \n",
      "\n"
     ]
    }
   ],
   "source": [
    "print(cm)"
   ]
  },
  {
   "cell_type": "code",
   "execution_count": null,
   "id": "de6ed6bd",
   "metadata": {},
   "outputs": [],
   "source": []
  }
 ],
 "metadata": {
  "kernelspec": {
   "display_name": "Python 3 (ipykernel)",
   "language": "python",
   "name": "python3"
  },
  "language_info": {
   "codemirror_mode": {
    "name": "ipython",
    "version": 3
   },
   "file_extension": ".py",
   "mimetype": "text/x-python",
   "name": "python",
   "nbconvert_exporter": "python",
   "pygments_lexer": "ipython3",
   "version": "3.9.7"
  }
 },
 "nbformat": 4,
 "nbformat_minor": 5
}
